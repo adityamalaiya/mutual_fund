{
 "cells": [
  {
   "cell_type": "code",
   "execution_count": 53,
   "id": "40e2452a-821e-46b7-bf6e-b9019fbbf750",
   "metadata": {},
   "outputs": [],
   "source": [
    "import requests\n",
    "import pandas as pd\n",
    "import json"
   ]
  },
  {
   "cell_type": "code",
   "execution_count": null,
   "id": "0815faa4-3426-4334-b69c-63f299e766cd",
   "metadata": {},
   "outputs": [],
   "source": [
    "response = requests.get(\"https://api.mfapi.in/mf\", allow_redirects = True)\n",
    "data = json.loads(response.content)\n",
    "df_mf_list = pd.json_normalize(data)\n",
    "# df_mf_list.to_csv('mf_list.csv')"
   ]
  },
  {
   "cell_type": "code",
   "execution_count": null,
   "id": "107bdf1f-a025-407f-a6df-1a5de093ce41",
   "metadata": {},
   "outputs": [],
   "source": [
    "mf_data_response = requests.get(\"https://api.mfapi.in/mf/120843\", allow_redirects = True)\n",
    "mf_data_1 = json.loads(mf_data_response.content)\n",
    "# mf_data = pd.json_normalize(mf_data_1['data'])\n",
    "mf_data = pd.json_normalize(mf_data_1)\n",
    "mf_data_df = pd.DataFrame.from_dict(mf_data['data'][0])\n",
    "mf_data_df['date'] = pd.to_datetime(mf_data_df['date'], format = '%d-%m-%Y')"
   ]
  },
  {
   "cell_type": "code",
   "execution_count": null,
   "id": "0e9473f4-71f0-4aad-8592-8c3b25d95d67",
   "metadata": {},
   "outputs": [],
   "source": []
  }
 ],
 "metadata": {
  "kernelspec": {
   "display_name": "Python 3 (ipykernel)",
   "language": "python",
   "name": "python3"
  },
  "language_info": {
   "codemirror_mode": {
    "name": "ipython",
    "version": 3
   },
   "file_extension": ".py",
   "mimetype": "text/x-python",
   "name": "python",
   "nbconvert_exporter": "python",
   "pygments_lexer": "ipython3",
   "version": "3.11.9"
  }
 },
 "nbformat": 4,
 "nbformat_minor": 5
}
