{
 "cells": [
  {
   "cell_type": "code",
   "execution_count": 40,
   "id": "40e2452a-821e-46b7-bf6e-b9019fbbf750",
   "metadata": {},
   "outputs": [],
   "source": [
    "import requests\n",
    "import pandas as pd\n",
    "import json\n",
    "import numpy as np"
   ]
  },
  {
   "cell_type": "code",
   "execution_count": 41,
   "id": "25db0363-a801-4780-b208-9a48fd6d5f0b",
   "metadata": {},
   "outputs": [],
   "source": [
    "def read_mutual_fund_categories_amfi():\n",
    "    df_mf_list = pd.read_csv('https://portal.amfiindia.com/DownloadSchemeData_Po.aspx?mf=0', header = 'infer')\n",
    "    df_mf_list.columns = df_mf_list.columns.str.strip()\n",
    "    df_mf_list.replace(np.nan,'', inplace = True)\n",
    "    scheme_categories = df_mf_list['Scheme Category'].unique() ### use df_mf_list_1 after remove the category condition to get this\n",
    "    df_mf_list_1 = df_mf_list[(df_mf_list['Closure Date'] == '') & (df_mf_list['Scheme Category'] == 'Equity Scheme - Flexi Cap Fund') & (df_mf_list['Scheme NAV Name'].str.contains(\"Direct\") == True) & (df_mf_list['Scheme NAV Name'].str.contains(\"Growth\") == True)].reset_index()\n",
    "    return df_mf_list_1\n",
    "\n",
    "def get_mf_price_data_mfapi(code, ):\n",
    "    mf_data_response = requests.get(f\"https://api.mfapi.in/mf/{code}\", allow_redirects = True)\n",
    "    mf_data_1 = json.loads(mf_data_response.content.decode('utf-8'))\n",
    "    # mf_data = pd.json_normalize(mf_data_1['data'])\n",
    "    mf_data = pd.json_normalize(mf_data_1)\n",
    "    mf_data_df = pd.DataFrame.from_dict(mf_data['data'][0])\n",
    "    mf_data_df['date'] = pd.to_datetime(mf_data_df['date'], format = '%d-%m-%Y')\n",
    "    return mf_data_df"
   ]
  },
  {
   "cell_type": "code",
   "execution_count": 24,
   "id": "9bf87b6e-6a0e-470f-9b35-b114a0c4f861",
   "metadata": {},
   "outputs": [],
   "source": [
    "def read_mutual_fund_list_mfapi():\n",
    "    response = requests.get(\"https://api.mfapi.in/mf\", allow_redirects = True)\n",
    "    data = json.loads(response.content.decode('utf-8'))\n",
    "    df_mf_list = pd.json_normalize(data)"
   ]
  },
  {
   "cell_type": "code",
   "execution_count": 45,
   "id": "de0c17c0-ac55-4577-9f4a-686eb1b9eb90",
   "metadata": {},
   "outputs": [
    {
     "name": "stdout",
     "output_type": "stream",
     "text": [
      "118883 - 118883 - Taurus Flexi Cap Fund\n",
      "118535 - 118535 - Franklin India Flexi Cap Fund\n",
      "120662 - 120662 - UTI - Flexi Cap Fund.\n",
      "120046 - 120046 - HSBC Flexi Cap Fund\n",
      "120564 - 120564 - Aditya Birla Sun Life Flexi Cap Fund\n",
      "118424 - 118424 - BANDHAN Flexi Cap Fund\n",
      "119292 - 119292 - Union Flexi Cap Fund\n",
      "129046 - 129046 - Motilal Oswal Flexi Cap Fund\n",
      "140353 - 140353 - Edelweiss Flexi Cap Fund\n",
      "144546 - 144546 - Tata Flexi Cap Fund\n",
      "144905 - 144905 - Shriram Flexi Cap Fund\n",
      "148990 - 148990 - ICICI Prudential Flexicap fund-\n",
      "149094 - 149094 - Nippon India Flexi Cap Fund\n",
      "149104 - 149104 - Mahindra Manulife Flexi Cap Fund\n",
      "149450 - 149450 - Samco Flexi Cap Fund\n",
      "150387 - 150387 - Baroda BNP Paribas Flexi Cap Fund\n",
      "150571 - 150571 - Sundaram Flexicap Fund\n",
      "151379 - 151379 - ITI Flexi Cap Fund\n",
      "151412 - 151412 - Mirae Asset Flexi Cap Fund\n",
      "151895 - 151895 - Bajaj Finserv Flexi Cap Fund\n",
      "151917 - 151917 - NJ Flexi Cap Fund\n",
      "152135 - 152135 - Helios Flexi Cap Fund\n",
      "152584 - 152584 - TRUSTMF Flexi Cap Fund\n"
     ]
    }
   ],
   "source": [
    "if __name__ == \"__main__\":\n",
    "    all_funds = []\n",
    "    mutual_fund_list = read_mutual_fund_categories_amfi()\n",
    "    for index, row in mutual_fund_list.iterrows():\n",
    "        code = row['Code']\n",
    "        mf_data_df = get_mf_price_data_mfapi(code)\n",
    "        mf_data_df['Scheme Code'] = row['Code']\n",
    "        mf_data_df['Scheme Name'] = row['Scheme Name']\n",
    "        mf_data_df['Scheme Category'] = row['Scheme Category']\n",
    "        all_funds.append(mf_data_df)\n",
    "        print(f\"{code} - {row['Scheme Name']}\")\n",
    "final_df = pd.concat(all_funds, ignore_index=True)\n",
    "final_df = final_df[['Scheme Code', 'Scheme Name', 'Scheme Category', 'date', 'nav']]\n",
    "final_df.to_csv(\"mf_data.csv\")"
   ]
  }
 ],
 "metadata": {
  "kernelspec": {
   "display_name": "Python 3 (ipykernel)",
   "language": "python",
   "name": "python3"
  },
  "language_info": {
   "codemirror_mode": {
    "name": "ipython",
    "version": 3
   },
   "file_extension": ".py",
   "mimetype": "text/x-python",
   "name": "python",
   "nbconvert_exporter": "python",
   "pygments_lexer": "ipython3",
   "version": "3.11.9"
  }
 },
 "nbformat": 4,
 "nbformat_minor": 5
}
