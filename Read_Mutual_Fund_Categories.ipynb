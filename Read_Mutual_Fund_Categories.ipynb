{
 "cells": [
  {
   "cell_type": "code",
   "execution_count": 55,
   "id": "55b11036-90ec-43f3-a055-1a71eb873398",
   "metadata": {},
   "outputs": [],
   "source": [
    "import requests\n",
    "import json\n",
    "import pandas as pd\n",
    "import numpy as np"
   ]
  },
  {
   "cell_type": "code",
   "execution_count": 6,
   "id": "2dc55e85-5472-4d0a-9db5-524f644b8ce4",
   "metadata": {},
   "outputs": [],
   "source": [
    "response = requests.get('https://portal.amfiindia.com/DownloadSchemeData_Po.aspx?mf=0', allow_redirects = True)"
   ]
  },
  {
   "cell_type": "code",
   "execution_count": 56,
   "id": "ff7cbe6e-d447-4512-98d4-294a7ea72c67",
   "metadata": {},
   "outputs": [],
   "source": [
    "df_mf_list = pd.read_csv('https://portal.amfiindia.com/DownloadSchemeData_Po.aspx?mf=0', header = 'infer')\n",
    "df_mf_list.columns = df_mf_list.columns.str.strip()\n",
    "df_mf_list.replace(np.nan,'', inplace = True)\n",
    "scheme_categories = df_mf_list['Scheme Category'].unique() ### use df_mf_list_1 after remove the category condition to get this\n",
    "df_mf_list_1 = df_mf_list[(df_mf_list['Closure Date'] == '') & (df_mf_list['Scheme Category'] == 'Equity Scheme - Flexi Cap Fund') & (df_mf_list['Scheme NAV Name'].str.contains(\"Direct\") == True)].reset_index()"
   ]
  }
 ],
 "metadata": {
  "kernelspec": {
   "display_name": "Python 3 (ipykernel)",
   "language": "python",
   "name": "python3"
  },
  "language_info": {
   "codemirror_mode": {
    "name": "ipython",
    "version": 3
   },
   "file_extension": ".py",
   "mimetype": "text/x-python",
   "name": "python",
   "nbconvert_exporter": "python",
   "pygments_lexer": "ipython3",
   "version": "3.11.9"
  }
 },
 "nbformat": 4,
 "nbformat_minor": 5
}
