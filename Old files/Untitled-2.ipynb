{
  "cells": [
    {
      "cell_type": "code",
      "metadata": {
        "language": "python"
      },
      "source": [
        "import pandas as pd",
        "import json",
        "",
        "# Save rebalance log to a readable CSV and JSON file",
        "readable_rows = []",
        "for log in rebalance_log:",
        "    # Expand pl_report for each sold fund, or add a row with empty P/L if none sold",
        "    if log['pl_report']:",
        "        for pl in log['pl_report']:",
        "            readable_rows.append({",
        "                'rebalance_date': log['rebalance_date'],",
        "                'top5': ', '.join([f'{f} ({ret}%)' for f, ret in log['top5']]),",
        "                'bought_funds': ', '.join(log['bought_funds']),",
        "                'sold_funds': ', '.join(log['sold_funds']),",
        "                'sold_fund': pl['fund'],",
        "                'units': round(pl['units'], 2),",
        "                'buy_nav': round(pl['buy_nav'], 2),",
        "                'sell_nav': round(pl['sell_nav'], 2),",
        "                'profit_loss': round(pl['profit_loss'], 2),",
        "                'portfolio_value': log['portfolio_value']",
        "            })",
        "    else:",
        "        readable_rows.append({",
        "            'rebalance_date': log['rebalance_date'],",
        "            'top5': ', '.join([f'{f} ({ret}%)' for f, ret in log['top5']]),",
        "            'bought_funds': ', '.join(log['bought_funds']),",
        "            'sold_funds': ', '.join(log['sold_funds']),",
        "            'sold_fund': '',",
        "            'units': '',",
        "            'buy_nav': '',",
        "            'sell_nav': '',",
        "            'profit_loss': '',",
        "            'portfolio_value': log['portfolio_value']",
        "        })",
        "",
        "# Save as CSV",
        "pd.DataFrame(readable_rows).to_csv('rebalance_log_readable.csv', index=False)",
        "",
        "# Save as pretty JSON for further inspection if needed",
        "with open('rebalance_log_readable.json', 'w', encoding='utf-8') as f:",
        "    json.dump(rebalance_log, f, indent=2, ensure_ascii=False)",
        "",
        "print('Readable rebalance log saved to rebalance_log_readable.csv and rebalance_log_readable.json')"
      ]
    }
  ]
}